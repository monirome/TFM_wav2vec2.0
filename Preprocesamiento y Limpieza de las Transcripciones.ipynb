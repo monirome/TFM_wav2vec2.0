{
 "cells": [
  {
   "cell_type": "code",
   "execution_count": 1,
   "metadata": {},
   "outputs": [],
   "source": [
    "import pylangacq as pla\n",
    "import pandas as pd\n",
    "import numpy as np\n",
    "import sys\n",
    "from collections import Counter\n",
    "import seaborn as sns\n",
    "\n",
    "\n",
    "if not sys.warnoptions:\n",
    "    import warnings\n",
    "    warnings.simplefilter(\"ignore\")"
   ]
  },
  {
   "cell_type": "markdown",
   "metadata": {},
   "source": [
    "### Lectura archivos CHAT"
   ]
  },
  {
   "cell_type": "markdown",
   "metadata": {},
   "source": [
    "#### Se genera un dataframe con las columnas: 'mark_star', 'mark_end', 'transcription', 'sex', 'age' , 'file' , 'WAB_AQ' y 'aphasia_type'"
   ]
  },
  {
   "cell_type": "code",
   "execution_count": null,
   "metadata": {},
   "outputs": [],
   "source": [
    "# Load transcriptions\n",
    "\n",
    "def read_chat_files(file_directory):\n",
    "    ds = pla.read_chat(file_directory)\n",
    "    files=ds.file_paths()\n",
    "\n",
    "\n",
    "    #Time Mark (milisecond)\n",
    "    cols = ['mark_start','mark_end']\n",
    "    lst = []\n",
    "    for i in range(len(ds.utterances(participants=\"PAR\"))):\n",
    "        lst.append(ds.utterances(participants=\"PAR\")[i].time_marks)\n",
    "    df = pd.DataFrame(lst, columns=cols) #create datrafame\n",
    "\n",
    "    #pacient transcription\n",
    "    participant=ds.words(participants=\"PAR\",by_utterances=True)\n",
    "    df=df.assign(transcription=participant)\n",
    "    for i in range(len(df)):\n",
    "        df['transcription'][i] =' '.join(df['transcription'][i]) #transcriptions\n",
    "\n",
    "    #pacient information\n",
    "    v_sex=[]\n",
    "    v_age=[]\n",
    "    v_WAB_AQ=[]\n",
    "    v_file_name=[]\n",
    "    v_aphasia_type=[]\n",
    "    for f in files: \n",
    "        ds2=pla.read_chat(f)\n",
    "        participant=ds2.words(participants=\"PAR\",by_utterances=True)\n",
    "        size=len(participant)\n",
    "        for j in range(size):\n",
    "            header=ds2.headers()\n",
    "            sex=header[0]['Participants']['PAR']['sex'] #sex information\n",
    "            age=header[0]['Participants']['PAR']['age'] #age information\n",
    "            WAB_AQ=header[0]['Participants']['PAR']['custom'] #WAB_AQ information\n",
    "            aphasia_type=header[0]['Participants']['PAR']['group'] #fluency_speech information\n",
    "            v_sex.append(sex)\n",
    "            v_age.append(age)\n",
    "            v_WAB_AQ.append(WAB_AQ)\n",
    "            v_aphasia_type.append(aphasia_type)\n",
    "            for k in range (len(ds2.file_paths())):\n",
    "                v_file_name.append(ds2.file_paths()[k]) #file name \n",
    "\n",
    "    df=df.assign(sex=v_sex)\n",
    "    df=df.assign(age=v_age)\n",
    "    df=df.assign(file=v_file_name)\n",
    "    df=df.assign(WAB_AQ=v_WAB_AQ)\n",
    "    df=df.assign(aphasia_type=v_aphasia_type)\n",
    "\n",
    "    df['age'] = df['age'].str[:2] #remove the months\n",
    "    df['file'] = df['file'].str[56:] #remove the directory \n",
    "    df['file'] = df['file'].str[:-4]+'.wav' #file format\n",
    "    \n",
    "    return(df)"
   ]
  },
  {
   "cell_type": "code",
   "execution_count": null,
   "metadata": {},
   "outputs": [],
   "source": [
    "direct=\"C:/Users/Monica/Desktop/TFM/Aphasia/Transcripciones/All/\"\n",
    "df=read_chat_files(direct)"
   ]
  },
  {
   "cell_type": "code",
   "execution_count": null,
   "metadata": {},
   "outputs": [],
   "source": [
    "df.to_csv (r'C:\\Users\\Monica\\Desktop\\TFM\\Aphasia\\df_original.csv', index = False, header=True)"
   ]
  },
  {
   "cell_type": "code",
   "execution_count": 2,
   "metadata": {},
   "outputs": [],
   "source": [
    "df = pd.read_csv(\"C:/Users/Monica/Desktop/TFM/Aphasia/df_original.csv\")"
   ]
  },
  {
   "cell_type": "markdown",
   "metadata": {},
   "source": [
    "##### Calculamos el numero de palabras en total y de palabras distintas"
   ]
  },
  {
   "cell_type": "code",
   "execution_count": 3,
   "metadata": {},
   "outputs": [],
   "source": [
    "#Number of total words\n",
    "df['num_words'] = df['transcription'].str.count(' ') + 1"
   ]
  },
  {
   "cell_type": "code",
   "execution_count": 4,
   "metadata": {},
   "outputs": [
    {
     "data": {
      "text/plain": [
       "469207"
      ]
     },
     "execution_count": 4,
     "metadata": {},
     "output_type": "execute_result"
    }
   ],
   "source": [
    "sum(df['num_words'])"
   ]
  },
  {
   "cell_type": "code",
   "execution_count": 5,
   "metadata": {},
   "outputs": [
    {
     "data": {
      "text/plain": [
       "8505"
      ]
     },
     "execution_count": 5,
     "metadata": {},
     "output_type": "execute_result"
    }
   ],
   "source": [
    "#Number of distinct words\n",
    "len(list(df['transcription'].str.split(' ', expand=True).stack().unique()))"
   ]
  },
  {
   "cell_type": "markdown",
   "metadata": {},
   "source": [
    "#### Nueva métrica: 'file_cut' , donde se veran reflejados el inicio y duración de cada transcripcion"
   ]
  },
  {
   "cell_type": "code",
   "execution_count": 6,
   "metadata": {},
   "outputs": [],
   "source": [
    "#file_cut -> file_start_duration \n",
    "\n",
    "v_file_cut=[]\n",
    "for i in range(len(df)):\n",
    "    start=((pd.to_numeric(df['mark_start'][i]))/1000)\n",
    "    duration=((pd.to_numeric(df['mark_end'][i]))-(pd.to_numeric(df['mark_start'][i])))/1000\n",
    "    file=df['file'][i][:-4]\n",
    "    file_cut=f\"\"\"{file}_{start}_{duration}.wav\"\"\"\n",
    "    v_file_cut.append(file_cut)\n",
    "df=df.assign(file_cut=v_file_cut)"
   ]
  },
  {
   "cell_type": "markdown",
   "metadata": {},
   "source": [
    "#### Nueva métrica: 'WAB_AQ_category' , tipo de severidad de la afasia del paciente"
   ]
  },
  {
   "cell_type": "code",
   "execution_count": 7,
   "metadata": {},
   "outputs": [],
   "source": [
    "#WAB_AQ_category -> aphasia type \n",
    "\n",
    "df.loc[(pd.to_numeric(df['WAB_AQ'])>= 0) & (pd.to_numeric(df['WAB_AQ'])<=25), 'WAB_AQ_category'] = 'Very severe'\n",
    "df.loc[(pd.to_numeric(df['WAB_AQ'])> 25) & (pd.to_numeric(df['WAB_AQ'])<=50), 'WAB_AQ_category'] = 'Severe'\n",
    "df.loc[(pd.to_numeric(df['WAB_AQ'])> 50) & (pd.to_numeric(df['WAB_AQ'])<=75), 'WAB_AQ_category'] = 'Moderate'\n",
    "df.loc[(pd.to_numeric(df['WAB_AQ'])> 75) , 'WAB_AQ_category'] = 'Mild'\n",
    "df.loc[np.isnan(pd.to_numeric(df['WAB_AQ'])) , 'WAB_AQ_category'] = 'Unknown'"
   ]
  },
  {
   "cell_type": "markdown",
   "metadata": {},
   "source": [
    "#### Nueva métrica: 'fluency_speech'  es la fluidez del habla del paciente basado en el tipo de afasia"
   ]
  },
  {
   "cell_type": "code",
   "execution_count": 8,
   "metadata": {},
   "outputs": [],
   "source": [
    "#fluency_speech -> speech fluency based on aphasia_type\n",
    "\n",
    "df.loc[((df['aphasia_type'])== 'Anomic') | ((df['aphasia_type'])== 'Conduction') | ((df['aphasia_type'])== 'Fluent')| ((df['aphasia_type'])== 'Wernicke')| ((df['aphasia_type'])== 'TransSensory'), 'fluency_speech'] = 'Fluent'\n",
    "df.loc[((df['aphasia_type'])== 'Broca') | ((df['aphasia_type'])== 'Global') | ((df['aphasia_type'])== 'TransMotor'), 'fluency_speech'] = 'Non Fluent'\n",
    "df.loc[((df['aphasia_type'])== 'NotAphasicByWAB') , 'fluency_speech'] = 'Unknown'"
   ]
  },
  {
   "cell_type": "markdown",
   "metadata": {},
   "source": [
    "#### Número de transcripciones en el dataset antes de comenzar la limpieza"
   ]
  },
  {
   "cell_type": "code",
   "execution_count": 9,
   "metadata": {},
   "outputs": [
    {
     "name": "stdout",
     "output_type": "stream",
     "text": [
      "Nº Transcripciones: 78031\n"
     ]
    }
   ],
   "source": [
    "#Number of transcriptions \n",
    "print('Nº Transcripciones:' ,len(df))"
   ]
  },
  {
   "cell_type": "markdown",
   "metadata": {},
   "source": [
    "#### Función para calcular el numero de horas totales"
   ]
  },
  {
   "cell_type": "code",
   "execution_count": 10,
   "metadata": {},
   "outputs": [
    {
     "name": "stdout",
     "output_type": "stream",
     "text": [
      "Nº horas: 116.0 horas\n"
     ]
    }
   ],
   "source": [
    "#Number of total hours\n",
    "def num_hours(df):\n",
    "    ms=(df['mark_end']-df['mark_start']).sum()\n",
    "    ms=ms*2.7777777777778E-7\n",
    "    print('Nº horas:',round(ms,1), 'horas')\n",
    "\n",
    "num_hours(df)"
   ]
  },
  {
   "cell_type": "markdown",
   "metadata": {},
   "source": [
    "### Limpiar dataset"
   ]
  },
  {
   "cell_type": "markdown",
   "metadata": {},
   "source": [
    "#### Frases que contienen caracteres como  x x x o frases con x -> \"I love x cats\" . Se eliminan estos caracteres ya que se consideran palabras o frases ininteligibles"
   ]
  },
  {
   "cell_type": "code",
   "execution_count": 11,
   "metadata": {},
   "outputs": [],
   "source": [
    "df['transcription'] = df['transcription'].apply(lambda s: ' '.join(i for i in s.split(' ') if i != 'x'))"
   ]
  },
  {
   "cell_type": "code",
   "execution_count": 12,
   "metadata": {},
   "outputs": [
    {
     "name": "stdout",
     "output_type": "stream",
     "text": [
      "Nº Transcripciones: 78031\n",
      "Nº horas: 116.0 horas\n"
     ]
    }
   ],
   "source": [
    "#Number of transcriptions and number of total hours with this first cleaning\n",
    "print('Nº Transcripciones:' ,len(df))\n",
    "num_hours(df)"
   ]
  },
  {
   "cell_type": "markdown",
   "metadata": {},
   "source": [
    "#### Eliminar caracteres extraños. Normalización de palabras a minusculas"
   ]
  },
  {
   "cell_type": "code",
   "execution_count": 13,
   "metadata": {},
   "outputs": [],
   "source": [
    "import re\n",
    "chars_to_ignore_regex = '[\\,\\?\\.\\!\\-\\;\\:\\\"\\“\\%\\‘\\”\\�\\‡\\„\\$v\\$\\^\\/\\//\\0\\↓\\≠\\↑]' \n",
    "for i in range(len(df['transcription'])):\n",
    "    df['transcription'][i]=re.sub(chars_to_ignore_regex,\"\", df[\"transcription\"][i]).lower()\n",
    "    df['transcription'][i]=re.sub('_',' ',df[\"transcription\"][i] )\n",
    "    df['transcription'][i]=re.sub(' +', ' ',df[\"transcription\"][i] )"
   ]
  },
  {
   "cell_type": "code",
   "execution_count": 14,
   "metadata": {},
   "outputs": [
    {
     "name": "stdout",
     "output_type": "stream",
     "text": [
      "Nº Transcripciones: 78031\n",
      "Nº horas: 116.0 horas\n"
     ]
    }
   ],
   "source": [
    "#Number of transcriptions and number of total hours with this first cleaning\n",
    "print('Nº Transcripciones:' ,len(df))\n",
    "num_hours(df)"
   ]
  },
  {
   "cell_type": "markdown",
   "metadata": {},
   "source": [
    "####  Eliminar transcripciones con caracteres fonéticos"
   ]
  },
  {
   "cell_type": "code",
   "execution_count": 15,
   "metadata": {},
   "outputs": [],
   "source": [
    "p='é|æ|ɑ|ɔ|ɕ|ç|ḏ|ḍ|ð|ə|ɚ|ɛ|ɝ|ḡ|ʰ|ḥ|ḫ|ẖ|ɪ|ỉ|ɨ|ʲ|ǰ|ḳ|ḵ|ḷ|ɬ|ɫ|ŋ|ṇ|ɲ|ɴ|ŏ|ɸ|θ|p̅|þ|ɹ|ɾ|ʀ|ʁ|ṛ|š|ś|ṣ|ʃ|ṭ|ṯ|ʨ|tʂ|ʊ|ŭ|ü|ʌ|ɣ|ʍ|χ|ʸ|ʎ|ẓ|ž|ʒ|’|‘|ʔ|ʕ|∬|↫'\n",
    "df=df.loc[~df['transcription'].str.contains(p, regex=True)] "
   ]
  },
  {
   "cell_type": "code",
   "execution_count": 16,
   "metadata": {},
   "outputs": [
    {
     "name": "stdout",
     "output_type": "stream",
     "text": [
      "Nº Transcripciones: 77885\n",
      "Nº horas: 115.7 horas\n"
     ]
    }
   ],
   "source": [
    "#Number of transcriptions and number of total hours with this first cleaning\n",
    "print('Nº Transcripciones:' ,len(df))\n",
    "num_hours(df)"
   ]
  },
  {
   "cell_type": "markdown",
   "metadata": {},
   "source": [
    "#### Eliminar transcripciones vacias y espacios al final de cada frase"
   ]
  },
  {
   "cell_type": "code",
   "execution_count": 17,
   "metadata": {},
   "outputs": [],
   "source": [
    "nan_value = float(\"NaN\")\n",
    "df.replace(\"\", nan_value, inplace=True)\n",
    "df.dropna( inplace=True)\n",
    "df.reset_index(drop=True, inplace=True)"
   ]
  },
  {
   "cell_type": "code",
   "execution_count": 18,
   "metadata": {},
   "outputs": [],
   "source": [
    "df[\"transcription\"] = df[\"transcription\"].str.rstrip()"
   ]
  },
  {
   "cell_type": "code",
   "execution_count": 19,
   "metadata": {},
   "outputs": [
    {
     "name": "stdout",
     "output_type": "stream",
     "text": [
      "Nº Transcripciones: 67887\n",
      "Nº horas: 91.5 horas\n"
     ]
    }
   ],
   "source": [
    "#Number of transcriptions and number of total hours with this first cleaning\n",
    "print('Nº Transcripciones:' ,len(df))\n",
    "num_hours(df)"
   ]
  },
  {
   "cell_type": "markdown",
   "metadata": {},
   "source": [
    "#### Se genera una columna llamada duracion de cada audio para filtrar en caso de que la memoria no sea suficiente en las inferencias"
   ]
  },
  {
   "cell_type": "code",
   "execution_count": 20,
   "metadata": {},
   "outputs": [],
   "source": [
    "v_duration=[]\n",
    "for i in range(len(df)):  \n",
    "    duration=((pd.to_numeric(df['mark_end'][i]))-(pd.to_numeric(df['mark_start'][i])))/1000\n",
    "    v_duration.append(duration)\n",
    "df=df.assign(duration=v_duration)"
   ]
  },
  {
   "cell_type": "markdown",
   "metadata": {},
   "source": [
    "#### El archivo adler07a tiene transcripciones que no corresponden con el audio. Para su limpieza eliminamos todas las transcripciones mayores a la duración del audio."
   ]
  },
  {
   "cell_type": "code",
   "execution_count": 21,
   "metadata": {},
   "outputs": [],
   "source": [
    "df=df.loc[~(df['file']==\"adler07a.wav\") & (df['mark_start']<1036208)] \n",
    "df.reset_index(drop=True, inplace=True)"
   ]
  },
  {
   "cell_type": "code",
   "execution_count": 22,
   "metadata": {},
   "outputs": [
    {
     "name": "stdout",
     "output_type": "stream",
     "text": [
      "Nº Transcripciones: 51889\n",
      "Nº horas: 67.1 horas\n"
     ]
    }
   ],
   "source": [
    "#Number of transcriptions and number of total hours with this first cleaning\n",
    "print('Nº Transcripciones:' ,len(df))\n",
    "num_hours(df)"
   ]
  },
  {
   "cell_type": "markdown",
   "metadata": {},
   "source": [
    "#### Filtro audios menores de 25 segundos"
   ]
  },
  {
   "cell_type": "code",
   "execution_count": 23,
   "metadata": {},
   "outputs": [],
   "source": [
    "df_25seconds=df.copy()\n",
    "df_25seconds=df_25seconds[(df_25seconds['duration']) >= 25] #keep the audios for future works \n",
    "df_25seconds.reset_index(drop=True, inplace=True)"
   ]
  },
  {
   "cell_type": "code",
   "execution_count": 24,
   "metadata": {},
   "outputs": [],
   "source": [
    "df=df[(df['duration']) < 25] #filter less 25 seconds"
   ]
  },
  {
   "cell_type": "code",
   "execution_count": 25,
   "metadata": {},
   "outputs": [
    {
     "name": "stdout",
     "output_type": "stream",
     "text": [
      "Nº Transcripciones: 51499\n",
      "Nº horas: 63.6 horas\n"
     ]
    }
   ],
   "source": [
    "#Number of transcriptions and number of total hours with this first cleaning\n",
    "print('Nº Transcripciones:' ,len(df))\n",
    "num_hours(df)"
   ]
  },
  {
   "cell_type": "markdown",
   "metadata": {},
   "source": [
    "##### Calculamos el numero de palabras en total y de palabras distintas"
   ]
  },
  {
   "cell_type": "code",
   "execution_count": 26,
   "metadata": {},
   "outputs": [],
   "source": [
    "#Number of total words\n",
    "df['num_words'] = df['transcription'].str.count(' ') + 1"
   ]
  },
  {
   "cell_type": "code",
   "execution_count": 27,
   "metadata": {},
   "outputs": [
    {
     "data": {
      "text/plain": [
       "260206"
      ]
     },
     "execution_count": 27,
     "metadata": {},
     "output_type": "execute_result"
    }
   ],
   "source": [
    "sum(df['num_words'])"
   ]
  },
  {
   "cell_type": "code",
   "execution_count": 28,
   "metadata": {},
   "outputs": [
    {
     "data": {
      "text/plain": [
       "6536"
      ]
     },
     "execution_count": 28,
     "metadata": {},
     "output_type": "execute_result"
    }
   ],
   "source": [
    "#Number of distinct words\n",
    "len(list(df['transcription'].str.split(' ', expand=True).stack().unique()))"
   ]
  },
  {
   "cell_type": "markdown",
   "metadata": {},
   "source": [
    "##### Guardamos los ficheros para su posterior uso en la generacion de cortes de audio"
   ]
  },
  {
   "cell_type": "code",
   "execution_count": 29,
   "metadata": {},
   "outputs": [],
   "source": [
    "df.to_csv (r'C:\\Users\\Monica\\Desktop\\TFM\\Aphasia\\df_clean.csv', index = False, header=True)\n",
    "df_25seconds.to_csv (r'C:\\Users\\Monica\\Desktop\\TFM\\Aphasia\\df_25seconds.csv', index = False, header=True)"
   ]
  },
  {
   "cell_type": "markdown",
   "metadata": {},
   "source": [
    " "
   ]
  },
  {
   "cell_type": "markdown",
   "metadata": {},
   "source": [
    " "
   ]
  },
  {
   "cell_type": "markdown",
   "metadata": {},
   "source": [
    "##### Calculos varios de tiempo, edad, sexo...etc"
   ]
  },
  {
   "cell_type": "code",
   "execution_count": 30,
   "metadata": {},
   "outputs": [
    {
     "data": {
      "text/plain": [
       "228786661.0"
      ]
     },
     "execution_count": 30,
     "metadata": {},
     "output_type": "execute_result"
    }
   ],
   "source": [
    "ms=(df['mark_end']-df['mark_start']).sum()\n",
    "ms"
   ]
  },
  {
   "cell_type": "code",
   "execution_count": 31,
   "metadata": {},
   "outputs": [
    {
     "data": {
      "text/plain": [
       "63.551850277778286"
      ]
     },
     "execution_count": 31,
     "metadata": {},
     "output_type": "execute_result"
    }
   ],
   "source": [
    "ms*2.7777777777778E-7"
   ]
  },
  {
   "cell_type": "markdown",
   "metadata": {},
   "source": [
    "##### Conteo por genero"
   ]
  },
  {
   "cell_type": "code",
   "execution_count": 32,
   "metadata": {},
   "outputs": [],
   "source": [
    "import sqlite3\n",
    "cnx = sqlite3.connect(':memory:')\n",
    "def sql_query(query):\n",
    "    return pd.read_sql(query, cnx)\n",
    "\n",
    "df.to_sql('df', con=cnx, if_exists='append', index=False)\n",
    "\n",
    "query= \"\"\" SELECT sex, count(distinct file) AS CONTEO FROM (SELECT file,sex FROM df group by file,sex) GROUP BY SEX \"\"\""
   ]
  },
  {
   "cell_type": "code",
   "execution_count": 33,
   "metadata": {},
   "outputs": [
    {
     "data": {
      "text/html": [
       "<div>\n",
       "<style scoped>\n",
       "    .dataframe tbody tr th:only-of-type {\n",
       "        vertical-align: middle;\n",
       "    }\n",
       "\n",
       "    .dataframe tbody tr th {\n",
       "        vertical-align: top;\n",
       "    }\n",
       "\n",
       "    .dataframe thead th {\n",
       "        text-align: right;\n",
       "    }\n",
       "</style>\n",
       "<table border=\"1\" class=\"dataframe\">\n",
       "  <thead>\n",
       "    <tr style=\"text-align: right;\">\n",
       "      <th></th>\n",
       "      <th>sex</th>\n",
       "      <th>CONTEO</th>\n",
       "    </tr>\n",
       "  </thead>\n",
       "  <tbody>\n",
       "    <tr>\n",
       "      <th>0</th>\n",
       "      <td>female</td>\n",
       "      <td>155</td>\n",
       "    </tr>\n",
       "    <tr>\n",
       "      <th>1</th>\n",
       "      <td>male</td>\n",
       "      <td>224</td>\n",
       "    </tr>\n",
       "  </tbody>\n",
       "</table>\n",
       "</div>"
      ],
      "text/plain": [
       "      sex  CONTEO\n",
       "0  female     155\n",
       "1    male     224"
      ]
     },
     "execution_count": 33,
     "metadata": {},
     "output_type": "execute_result"
    }
   ],
   "source": [
    "df_sex=sql_query(query)\n",
    "df_sex"
   ]
  },
  {
   "cell_type": "code",
   "execution_count": 34,
   "metadata": {},
   "outputs": [
    {
     "data": {
      "text/plain": [
       "<BarContainer object of 2 artists>"
      ]
     },
     "execution_count": 34,
     "metadata": {},
     "output_type": "execute_result"
    },
    {
     "data": {
      "image/png": "[encoded data removed]",
      "text/plain": [
       "<Figure size 432x288 with 1 Axes>"
      ]
     },
     "metadata": {
      "needs_background": "light"
     },
     "output_type": "display_data"
    }
   ],
   "source": [
    "import collections\n",
    "import matplotlib.pyplot as plt\n",
    "\n",
    "plt.bar(df_sex.sex, df_sex.CONTEO)"
   ]
  },
  {
   "cell_type": "code",
   "execution_count": 35,
   "metadata": {},
   "outputs": [
    {
     "data": {
      "text/plain": [
       "426"
      ]
     },
     "execution_count": 35,
     "metadata": {},
     "output_type": "execute_result"
    }
   ],
   "source": [
    "255 + 171"
   ]
  },
  {
   "cell_type": "markdown",
   "metadata": {},
   "source": [
    "##### Conteo por archivos = numero de participantes"
   ]
  },
  {
   "cell_type": "code",
   "execution_count": 36,
   "metadata": {},
   "outputs": [],
   "source": [
    "import sqlite3\n",
    "cnx = sqlite3.connect(':memory:')\n",
    "def sql_query(query):\n",
    "    return pd.read_sql(query, cnx)\n",
    "\n",
    "df.to_sql('df', con=cnx, if_exists='append', index=False)\n",
    "\n",
    "query= \"\"\" SELECT count(distinct file) as participant FROM df\"\"\""
   ]
  },
  {
   "cell_type": "code",
   "execution_count": 37,
   "metadata": {},
   "outputs": [
    {
     "data": {
      "text/html": [
       "<div>\n",
       "<style scoped>\n",
       "    .dataframe tbody tr th:only-of-type {\n",
       "        vertical-align: middle;\n",
       "    }\n",
       "\n",
       "    .dataframe tbody tr th {\n",
       "        vertical-align: top;\n",
       "    }\n",
       "\n",
       "    .dataframe thead th {\n",
       "        text-align: right;\n",
       "    }\n",
       "</style>\n",
       "<table border=\"1\" class=\"dataframe\">\n",
       "  <thead>\n",
       "    <tr style=\"text-align: right;\">\n",
       "      <th></th>\n",
       "      <th>participant</th>\n",
       "    </tr>\n",
       "  </thead>\n",
       "  <tbody>\n",
       "    <tr>\n",
       "      <th>0</th>\n",
       "      <td>379</td>\n",
       "    </tr>\n",
       "  </tbody>\n",
       "</table>\n",
       "</div>"
      ],
      "text/plain": [
       "   participant\n",
       "0          379"
      ]
     },
     "execution_count": 37,
     "metadata": {},
     "output_type": "execute_result"
    }
   ],
   "source": [
    "df_participant=sql_query(query)\n",
    "df_participant"
   ]
  },
  {
   "cell_type": "markdown",
   "metadata": {},
   "source": [
    "#####  Edad de los participantes"
   ]
  },
  {
   "cell_type": "code",
   "execution_count": 38,
   "metadata": {},
   "outputs": [],
   "source": [
    "df2=df.copy()\n",
    "bins = [18, 30, 40, 50, 60, 70, 120]\n",
    "labels = ['18-29', '30-39', '40-49', '50-59', '60-69', '70+']\n",
    "df2['agerange'] = pd.cut(df.age, bins, labels = labels,include_lowest = True)"
   ]
  },
  {
   "cell_type": "code",
   "execution_count": 39,
   "metadata": {},
   "outputs": [
    {
     "data": {
      "text/plain": [
       "<AxesSubplot:>"
      ]
     },
     "execution_count": 39,
     "metadata": {},
     "output_type": "execute_result"
    },
    {
     "data": {
      "image/png": "[encoded data removed]",
      "text/plain": [
       "<Figure size 432x288 with 1 Axes>"
      ]
     },
     "metadata": {
      "needs_background": "light"
     },
     "output_type": "display_data"
    }
   ],
   "source": [
    "letter_counts = Counter(df2['agerange'])\n",
    "df3= pd.DataFrame.from_dict(letter_counts, orient='index').reindex(labels)\n",
    "df3.plot(kind='bar',rot=0)"
   ]
  },
  {
   "cell_type": "code",
   "execution_count": 40,
   "metadata": {},
   "outputs": [
    {
     "data": {
      "text/plain": [
       "<AxesSubplot:xlabel='agerange', ylabel='count'>"
      ]
     },
     "execution_count": 40,
     "metadata": {},
     "output_type": "execute_result"
    },
    {
     "data": {
      "image/png": "[encoded data removed]",
      "text/plain": [
       "<Figure size 432x288 with 1 Axes>"
      ]
     },
     "metadata": {
      "needs_background": "light"
     },
     "output_type": "display_data"
    }
   ],
   "source": [
    "sns.countplot(x='agerange',hue='sex',data=df2)"
   ]
  },
  {
   "cell_type": "markdown",
   "metadata": {},
   "source": []
  }
 ],
 "metadata": {
  "kernelspec": {
   "display_name": "Python 3",
   "language": "python",
   "name": "python3"
  },
  "language_info": {
   "codemirror_mode": {
    "name": "ipython",
    "version": 3
   },
   "file_extension": ".py",
   "mimetype": "text/x-python",
   "name": "python",
   "nbconvert_exporter": "python",
   "pygments_lexer": "ipython3",
   "version": "3.8.5"
  }
 },
 "nbformat": 4,
 "nbformat_minor": 4
}
